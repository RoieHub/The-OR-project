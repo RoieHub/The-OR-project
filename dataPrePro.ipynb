{
 "cells": [
  {
   "cell_type": "code",
   "execution_count": null,
   "id": "8011bedd",
   "metadata": {},
   "outputs": [],
   "source": [
    "# Read me: \n",
    "\"\"\"\n",
    "This Notebook uses 'yellow_tripdata_2013-05.csv' dataset which \n",
    "represent real taxi calls over manhetten recorded for january 2015\n",
    "\n",
    "This notebook extracts the needed data for our DARP problem.\n",
    "in the form of 'nyc2015_clean_sim.csv' containing only \n",
    "request ID , pick_up_time , src_ID and dest _ID. (node ID's are subjected to\n",
    "G = ox.graph_from_place('Manhattan, New York City, New York, USA', network_type='drive'))\n",
    "\"\"\"\n"
   ]
  },
  {
   "cell_type": "code",
   "execution_count": null,
   "id": "182cbd77",
   "metadata": {},
   "outputs": [],
   "source": []
  },
  {
   "cell_type": "code",
   "execution_count": 1,
   "id": "085c3e40",
   "metadata": {},
   "outputs": [],
   "source": [
    "import pandas as pd\n",
    "import collections\n",
    "import networkx as nx\n",
    "import osmnx as ox\n",
    "import requests\n",
    "import matplotlib.cm as cm\n",
    "import matplotlib.colors as colors\n",
    "ox.config(use_cache=True, log_console=True)\n",
    "ox.__version__\n",
    "import pandas as pd\n",
    "import datetime\n",
    "from datetime import datetime\n",
    "from datetime import timedelta\n"
   ]
  },
  {
   "cell_type": "code",
   "execution_count": null,
   "id": "ae7c21d6",
   "metadata": {},
   "outputs": [],
   "source": [
    "# Making request from real nyc taxi data , for Simulation"
   ]
  },
  {
   "cell_type": "code",
   "execution_count": null,
   "id": "c99d9650",
   "metadata": {},
   "outputs": [],
   "source": [
    "# Getting the Data\n",
    "df2015 = pd.read_csv('yellow_tripdata_2013-05.csv')\n",
    "# Sorting by pickupo time\n",
    "df2015 = df2015.sort_values(by=['pickup_datetime'])\n",
    "print(df2015.head())"
   ]
  },
  {
   "cell_type": "code",
   "execution_count": null,
   "id": "36131035",
   "metadata": {},
   "outputs": [],
   "source": [
    "# Taking data only from from 0000 hours Sunday, May 5,2013, to 2359 hours, Saturday May 11, 2013,\n",
    "#df2 = df2015[df2015.pickup_longitude != 0]\n",
    "#df2 = df2015[df2015.pickup_latitude != 0]\n",
    "print(df2015[\"pickup_datetime\"][0])\n",
    "print(type(df2015[\"pickup_datetime\"][0]))"
   ]
  },
  {
   "cell_type": "code",
   "execution_count": null,
   "id": "3de58517",
   "metadata": {},
   "outputs": [],
   "source": [
    "# New York map for processing\n",
    "G = ox.graph_from_place('Manhattan, New York City, New York, USA', network_type='drive')\n",
    "print(type(G))\n",
    "fig, ax = ox.plot_graph(G, node_zorder=2, node_color='w', bgcolor='k')"
   ]
  },
  {
   "cell_type": "code",
   "execution_count": null,
   "id": "7ef75b64",
   "metadata": {},
   "outputs": [],
   "source": [
    "# impute missing edge speeds then calculate edge travel times\n",
    "G = ox.add_edge_speeds(G)\n",
    "G = ox.add_edge_travel_times(G)"
   ]
  },
  {
   "cell_type": "code",
   "execution_count": null,
   "id": "fad1fa96",
   "metadata": {},
   "outputs": [],
   "source": [
    "# Adding df2015['src'] & df['dst']\n",
    "# get the nearest network nodes to two points\n",
    "df2015['src'] = ox.distance.nearest_nodes(G, df2015['pickup_longitude'], df2015['pickup_latitude']) \n",
    "df2015['dst'] = ox.distance.nearest_nodes(G, df2015['dropoff_longitude'], df2015['dropoff_latitude'])"
   ]
  },
  {
   "cell_type": "code",
   "execution_count": null,
   "id": "f69d3830",
   "metadata": {},
   "outputs": [],
   "source": [
    "# east central park 40.77655043495452, -73.96272394118272\n",
    "# west central park 40.78309602235116, -73.97788139435836\n",
    "# north central park 40.802499781294784, -73.94938768615549\n",
    "# south central park 40.76541447387158, -73.97977213369425\n",
    "# South manhatan 40.74039135810914, -73.99471104354681\n",
    "# North manhatan 40.82760269509603, -73.9459039945126\n",
    "\n",
    "\"\"\"\n",
    "park_src1 = ox.distance.nearest_nodes(G, 40.77655043495452, -73.96272394118272)\n",
    "park_src2 = ox.distance.nearest_nodes(G, 40.78309602235116, -73.97788139435836)\n",
    "park_src3 = ox.distance.nearest_nodes(G, 40.802499781294784, -73.94938768615549)\n",
    "park_src4 = ox.distance.nearest_nodes(G, 40.76541447387158, -73.97977213369425)\n",
    "park_src5 = ox.distance.nearest_nodes(G, 40.74039135810914, -73.99471104354681)\n",
    "park_src6 = ox.distance.nearest_nodes(G, 40.82760269509603, -73.9459039945126)\"\"\"\n",
    "\n",
    "park_src1 = ox.distance.nearest_nodes(G,-73.96272394118272, 40.77655043495452 )\n",
    "park_src2 = ox.distance.nearest_nodes(G,-73.97788139435836, 40.78309602235116)\n",
    "park_src3 = ox.distance.nearest_nodes(G, -73.94938768615549, 40.802499781294784)\n",
    "park_src4 = ox.distance.nearest_nodes(G, -73.97977213369425,40.76541447387158)\n",
    "park_src5 = ox.distance.nearest_nodes(G,-73.99471104354681, 40.74039135810914)\n",
    "park_src6 = ox.distance.nearest_nodes(G, -73.9459039945126, 40.82760269509603)\n",
    "\n",
    "print(park_src1)\n",
    "print(park_src2)\n",
    "print(park_src3)\n",
    "print(park_src4)\n",
    "print(park_src5)\n",
    "print(park_src6)"
   ]
  },
  {
   "cell_type": "code",
   "execution_count": null,
   "id": "63d7fd5e",
   "metadata": {},
   "outputs": [],
   "source": [
    "df2015.head()"
   ]
  },
  {
   "cell_type": "code",
   "execution_count": null,
   "id": "ce17ce1f",
   "metadata": {},
   "outputs": [],
   "source": [
    "# Drop unwanted columns\n",
    "df2015=df2015.drop(columns=['RateCodeID', 'store_and_fwd_flag','payment_type','fare_amount','extra','mta_tax','tip_amount','tolls_amount','improvement_surcharge','total_amount','passenger_count','trip_distance','passenger_count','trip_distance'])\n",
    "#df2015=df2015.drop(columns=['passenger_count','trip_distance'])"
   ]
  },
  {
   "cell_type": "code",
   "execution_count": null,
   "id": "7b611fd2",
   "metadata": {},
   "outputs": [],
   "source": [
    "# Drops rows with bad data (bad ccordinates)\n",
    "\n",
    "df2 = df2015[df2015.pickup_longitude != 0]\n",
    "df2 = df2015[df2015.pickup_latitude != 0]\n",
    "df2 = df2015[df2015.dropoff_longitude != 0]\n",
    "df2 = df2015[df2015.dropoff_latitude != 0]"
   ]
  },
  {
   "cell_type": "code",
   "execution_count": null,
   "id": "f73cde84",
   "metadata": {},
   "outputs": [],
   "source": [
    "print(\"shape of df2\")\n",
    "print(df2.shape)\n",
    "print(\"shape of df2015\")\n",
    "print(df2015.shape)\n",
    "df2.head()\n"
   ]
  },
  {
   "cell_type": "code",
   "execution_count": 2,
   "id": "349929e3",
   "metadata": {},
   "outputs": [],
   "source": [
    "list_of_rows =[]"
   ]
  },
  {
   "cell_type": "code",
   "execution_count": 3,
   "id": "ab33bbd0",
   "metadata": {},
   "outputs": [],
   "source": [
    "from csv import reader\n",
    "with open('clean_2013.csv', 'r') as csv_file:\n",
    "    csv_reader = reader(csv_file)\n",
    "    # Passing the cav_reader object to list() to get a list of lists\n",
    "    list_of_rows = list(csv_reader)\n",
    "    #print(list_of_rows)\n",
    "    csv_file.close()\n",
    "\n"
   ]
  },
  {
   "cell_type": "code",
   "execution_count": 4,
   "id": "894d5bee",
   "metadata": {},
   "outputs": [
    {
     "name": "stdout",
     "output_type": "stream",
     "text": [
      "['', 'pickup_datetime', 'src', 'dst']\n"
     ]
    }
   ],
   "source": [
    "print(list_of_rows[0])"
   ]
  },
  {
   "cell_type": "code",
   "execution_count": 5,
   "id": "4cea08b1",
   "metadata": {},
   "outputs": [
    {
     "name": "stdout",
     "output_type": "stream",
     "text": [
      "['8383812', '2013-05-01 00:00:01', '1773121034', '42445413']\n"
     ]
    }
   ],
   "source": [
    "print(list_of_rows[1])\n"
   ]
  },
  {
   "cell_type": "code",
   "execution_count": 6,
   "id": "58654b78",
   "metadata": {},
   "outputs": [
    {
     "name": "stdout",
     "output_type": "stream",
     "text": [
      "8383812\n"
     ]
    }
   ],
   "source": [
    "print(list_of_rows[1][0])"
   ]
  },
  {
   "cell_type": "code",
   "execution_count": 7,
   "id": "f4ba2fe0",
   "metadata": {},
   "outputs": [
    {
     "name": "stdout",
     "output_type": "stream",
     "text": [
      "<class 'str'>\n"
     ]
    }
   ],
   "source": [
    "print(type(list_of_rows[1][0]))"
   ]
  },
  {
   "cell_type": "code",
   "execution_count": null,
   "id": "3fb2e410",
   "metadata": {},
   "outputs": [],
   "source": []
  },
  {
   "cell_type": "code",
   "execution_count": null,
   "id": "fd3465e0",
   "metadata": {},
   "outputs": [],
   "source": [
    "# Make CSV of df2\n",
    "#df2.to_csv('nyc2015_full_sim.csv')\n"
   ]
  },
  {
   "cell_type": "code",
   "execution_count": null,
   "id": "acda7e7d",
   "metadata": {},
   "outputs": [],
   "source": [
    "#df3=pd.read_csv('nyc2015_full_sim.csv')"
   ]
  },
  {
   "cell_type": "code",
   "execution_count": null,
   "id": "0bd53cbf",
   "metadata": {},
   "outputs": [],
   "source": [
    "df2.head()"
   ]
  },
  {
   "cell_type": "code",
   "execution_count": null,
   "id": "10caca64",
   "metadata": {},
   "outputs": [],
   "source": [
    "# To clear the data just to ID , pick_upo_time , src ID and dest ID\n",
    "\n",
    "df2=df2.drop(columns=[ 'VendorID','tpep_dropoff_datetime','pickup_longitude','pickup_latitude','dropoff_longitude','dropoff_latitude','tpep_pickup_datetime2'])"
   ]
  },
  {
   "cell_type": "code",
   "execution_count": null,
   "id": "ca53e145",
   "metadata": {},
   "outputs": [],
   "source": [
    "# Make CSV of df2\n",
    "#df2.to_csv('nyc2015_clean_sim.csv')\n"
   ]
  },
  {
   "cell_type": "code",
   "execution_count": null,
   "id": "93cfd1f8",
   "metadata": {},
   "outputs": [],
   "source": [
    "df4=pd.read_csv('nyc2015_clean_sim.csv')"
   ]
  },
  {
   "cell_type": "markdown",
   "id": "3456e37e",
   "metadata": {},
   "source": [
    "df4.head()"
   ]
  },
  {
   "cell_type": "code",
   "execution_count": null,
   "id": "e53df4e5",
   "metadata": {},
   "outputs": [],
   "source": [
    "df4.head()"
   ]
  },
  {
   "cell_type": "code",
   "execution_count": null,
   "id": "eabbf743",
   "metadata": {},
   "outputs": [],
   "source": [
    "epoch_len = timedelta(seconds = 30)\n",
    "start_time = str_to_time(df4['tpep_pickup_datetime'][0])\n",
    "for index, row in df4.iterrows():\n",
    "    time = str_to_time(row['tpep_pickup_datetime'])\n",
    "    if time <= (start_time+epoch_len) :\n",
    "        print('true')\n",
    "    else:\n",
    "        print('flase')"
   ]
  },
  {
   "cell_type": "code",
   "execution_count": null,
   "id": "e765a11c",
   "metadata": {},
   "outputs": [],
   "source": [
    " df4['tpep_pickup_datetime'][0]"
   ]
  },
  {
   "cell_type": "code",
   "execution_count": null,
   "id": "68dff8a5",
   "metadata": {},
   "outputs": [],
   "source": [
    "def str_to_time(s):\n",
    "    t = pd.Timestamp(s)\n",
    "    return t.to_pydatetime()\n",
    "    \n",
    "    "
   ]
  },
  {
   "cell_type": "code",
   "execution_count": null,
   "id": "1eed7d37",
   "metadata": {},
   "outputs": [],
   "source": [
    "str_to_time(df4['tpep_pickup_datetime'][0])"
   ]
  },
  {
   "cell_type": "code",
   "execution_count": null,
   "id": "2b70aee2",
   "metadata": {},
   "outputs": [],
   "source": []
  }
 ],
 "metadata": {
  "kernelspec": {
   "display_name": "Python 3",
   "language": "python",
   "name": "python3"
  },
  "language_info": {
   "codemirror_mode": {
    "name": "ipython",
    "version": 3
   },
   "file_extension": ".py",
   "mimetype": "text/x-python",
   "name": "python",
   "nbconvert_exporter": "python",
   "pygments_lexer": "ipython3",
   "version": "3.8.8"
  }
 },
 "nbformat": 4,
 "nbformat_minor": 5
}
