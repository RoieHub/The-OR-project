{
 "cells": [
  {
   "cell_type": "code",
   "execution_count": null,
   "id": "aee2e6ef",
   "metadata": {
    "scrolled": true
   },
   "outputs": [],
   "source": [
    "# Read me: \n",
    "\"\"\"\n",
    "This Notebook uses 'yellow_tripdata_2013-05.csv' dataset which \n",
    "represent real taxi calls over manhetten recorded for may 2013\n",
    "You can download it here: https://s3.amazonaws.com/nyc-tlc/trip+data/yellow_tripdata_2013-05.csv\n",
    "\n",
    "How to use : \n",
    "1) Download: the csv from the link above.\n",
    "2) Location: The file must be in the same directory as this notebook.\n",
    "3) Run: Run all cell consecutively.\n",
    "\n",
    "\n",
    "Returned values:\n",
    "1) \"clean_2013.csv\" : all valid trips from 0000 hours Sunday, May 5,2013, to 2359 hours, Saturday May 11, 2013.\n",
    "    This used to create \"Request nodes\" in the project , and containes 4 columns:\n",
    "    \n",
    "    a)   request_Index: Natural .\n",
    "    b)   pickup_datetime : pd.Timestamp .\n",
    "    c&d) src and dst: both : Natural .\n",
    "    \n",
    "    !!!! IMPORTANT !!!!\n",
    "   (src and dst node ID's are matching this graph: \n",
    "    G = ox.graph_from_place('Manhattan, New York City, New York, USA', network_type='drive'))\n",
    "    \n",
    "2) \"all_paths_nyc.pickle\" : Dictionary, keyed by source and target, of shortest paths.\n",
    "    display the path as a list of node ID's.\n",
    "\n",
    "\n",
    "3) \"all_travel_times.pickle \": (source, dictionary) iterator with dictionary keyed by target and shortest path length as the key value.\n",
    "\n",
    "How to use : \n",
    "1) Download: the csv from the link above.\n",
    "2) Location: The file must be in the same directory as this notebook.\n",
    "3) Run: Run all cell consecutively.\n",
    "\n",
    "\n",
    "Enjoy (=\n",
    "\"\"\"\n"
   ]
  },
  {
   "cell_type": "code",
   "execution_count": 1,
   "id": "ac566c4a",
   "metadata": {},
   "outputs": [],
   "source": [
    "import pandas as pd\n",
    "import collections\n",
    "import networkx as nx\n",
    "import osmnx as ox\n",
    "import requests\n",
    "import matplotlib.cm as cm\n",
    "import matplotlib.colors as colors\n",
    "ox.config(use_cache=True, log_console=True)\n",
    "ox.__version__\n",
    "import pandas as pd\n",
    "import datetime\n",
    "from datetime import datetime\n",
    "from datetime import timedelta\n",
    "import pickle\n",
    "from platform import python_version\n",
    "\n"
   ]
  },
  {
   "cell_type": "code",
   "execution_count": 2,
   "id": "632c4416",
   "metadata": {},
   "outputs": [
    {
     "name": "stdout",
     "output_type": "stream",
     "text": [
      "3.8.12\n"
     ]
    }
   ],
   "source": [
    "print(python_version())"
   ]
  },
  {
   "cell_type": "code",
   "execution_count": null,
   "id": "2de19951",
   "metadata": {},
   "outputs": [],
   "source": [
    "# Making request from real nyc taxi data , for Simulation"
   ]
  },
  {
   "cell_type": "code",
   "execution_count": null,
   "id": "dbcaa94a",
   "metadata": {},
   "outputs": [],
   "source": [
    "# Getting the Data\n",
    "df2013 = pd.read_csv('yellow_tripdata_2013-05.csv')\n",
    "# Sorting by pickupo time\n",
    "df2013 = df2013.sort_values(by=['pickup_datetime'])\n",
    "print(df2013.head())"
   ]
  },
  {
   "cell_type": "code",
   "execution_count": null,
   "id": "7f30d9b7",
   "metadata": {},
   "outputs": [],
   "source": [
    "# Parser func\n",
    "def str_to_time(s):\n",
    "    t = pd.Timestamp(s)\n",
    "    tt = t.to_pydatetime()\n",
    "    return tt\n",
    "    \n",
    "def str_to_time_list(s):\n",
    "    time_list = []\n",
    "    for t_string in s :\n",
    "        time_list.append(str_to_time(t_string))\n",
    "    return time_list"
   ]
  },
  {
   "cell_type": "code",
   "execution_count": null,
   "id": "22ffe9c6",
   "metadata": {},
   "outputs": [],
   "source": [
    "# Parse pickup_datetime string to pd.Timestamp()\n",
    "df2013['pickup_datetime'] =str_to_time_list(df2013['pickup_datetime'])\n",
    "df2013['dropoff_datetime'] =str_to_time_list(df2013['dropoff_datetime']) "
   ]
  },
  {
   "cell_type": "code",
   "execution_count": null,
   "id": "a37e02a7",
   "metadata": {},
   "outputs": [],
   "source": [
    "# Filter only the requests from 0000 hours Sunday, May 5,2013, to 2359 hours, Saturday May 11, 2013,\n",
    "df2013 = df2013[df2013.pickup_datetime > pd.Timestamp(2013, 5, 5, 0)  ]\n",
    "df2013 = df2013[df2013.dropoff_datetime < pd.Timestamp(2013, 5, 11, 23,59) ]\n"
   ]
  },
  {
   "cell_type": "code",
   "execution_count": null,
   "id": "5e240505",
   "metadata": {},
   "outputs": [],
   "source": [
    "# Drops rows with bad data (bad ccordinates)\n",
    "\n",
    "df2013 = df2013[df2013.pickup_longitude != 0]\n",
    "df2013 = df2013[df2013.pickup_latitude != 0]\n",
    "df2013 = df2013[df2013.dropoff_longitude != 0]\n",
    "df2013 = df2013[df2013.dropoff_latitude != 0]\n",
    "df2013 = df2013[df2013.passenger_count != 0]\n",
    "\n",
    "df2013.dropna()"
   ]
  },
  {
   "cell_type": "code",
   "execution_count": null,
   "id": "579970a4",
   "metadata": {},
   "outputs": [],
   "source": []
  },
  {
   "cell_type": "code",
   "execution_count": null,
   "id": "10478804",
   "metadata": {},
   "outputs": [],
   "source": [
    "#Drop out of bound pick up and dropoff\n",
    "df2013 = df2013[df2013.pickup_longitude > -74.022 ]\n",
    "df2013 = df2013[df2013.pickup_latitude > 40.69]\n",
    "df2013 = df2013[df2013.dropoff_longitude > -74.022]\n",
    "df2013 = df2013[df2013.dropoff_latitude > 40.69]\n",
    "df2013 = df2013[df2013.pickup_longitude < -73.906 ]\n",
    "df2013 = df2013[df2013.pickup_latitude < 40.88]\n",
    "df2013 = df2013[df2013.dropoff_longitude < -73.906]\n",
    "df2013 = df2013[df2013.dropoff_latitude < 40.88]\n"
   ]
  },
  {
   "cell_type": "code",
   "execution_count": null,
   "id": "f4008fb5",
   "metadata": {},
   "outputs": [],
   "source": [
    "# Drop unwanted columns\n",
    "df2013=df2013.drop(columns=['vendor_id','trip_distance','rate_code','store_and_fwd_flag','payment_type','fare_amount','surcharge','mta_tax','tip_amount','tolls_amount','total_amount','passenger_count'])"
   ]
  },
  {
   "cell_type": "code",
   "execution_count": null,
   "id": "2cac1e05",
   "metadata": {},
   "outputs": [],
   "source": [
    "df2013.head()"
   ]
  },
  {
   "cell_type": "code",
   "execution_count": null,
   "id": "d7aee2d0",
   "metadata": {},
   "outputs": [],
   "source": [
    "df2013.tail()"
   ]
  },
  {
   "cell_type": "code",
   "execution_count": 3,
   "id": "926d1efb",
   "metadata": {},
   "outputs": [
    {
     "name": "stdout",
     "output_type": "stream",
     "text": [
      "<class 'networkx.classes.multidigraph.MultiDiGraph'>\n"
     ]
    }
   ],
   "source": [
    "# New York map for processing\n",
    "G = ox.graph_from_place('Manhattan, New York City, New York, USA', network_type='drive')\n",
    "print(type(G))\n",
    "# fig, ax = ox.plot_graph(G, node_zorder=2, node_color='w', bgcolor='k')\n"
   ]
  },
  {
   "cell_type": "code",
   "execution_count": 3,
   "id": "f62f9acc",
   "metadata": {},
   "outputs": [],
   "source": [
    "# impute missing edge speeds then calculate edge travel times\n",
    "G = ox.add_edge_speeds(G)\n",
    "G = ox.add_edge_travel_times(G)"
   ]
  },
  {
   "cell_type": "code",
   "execution_count": null,
   "id": "254d3add",
   "metadata": {},
   "outputs": [],
   "source": [
    "ox.stats.basic_stats(G)"
   ]
  },
  {
   "cell_type": "code",
   "execution_count": 4,
   "id": "b809b884",
   "metadata": {},
   "outputs": [
    {
     "name": "stdout",
     "output_type": "stream",
     "text": [
      "370897167 not in graph\n"
     ]
    }
   ],
   "source": [
    "if 370897167 in G.nodes():\n",
    "    print('370897167 in graph')\n",
    "else:\n",
    "    print('370897167 not in graph')"
   ]
  },
  {
   "cell_type": "code",
   "execution_count": 8,
   "id": "c7f68ba6",
   "metadata": {},
   "outputs": [
    {
     "data": {
      "text/plain": [
       "'2.6.3'"
      ]
     },
     "execution_count": 8,
     "metadata": {},
     "output_type": "execute_result"
    }
   ],
   "source": [
    "nx.__version__"
   ]
  },
  {
   "cell_type": "code",
   "execution_count": 9,
   "id": "b7eac9aa",
   "metadata": {},
   "outputs": [
    {
     "data": {
      "text/plain": [
       "{'n': 4601,\n",
       " 'm': 9903,\n",
       " 'k_avg': 4.30471636600739,\n",
       " 'edge_length_total': 1174033.5900000012,\n",
       " 'edge_length_avg': 118.55332626476837,\n",
       " 'streets_per_node_avg': 3.5544446859378396,\n",
       " 'streets_per_node_counts': {0: 0,\n",
       "  1: 101,\n",
       "  2: 28,\n",
       "  3: 1767,\n",
       "  4: 2635,\n",
       "  5: 64,\n",
       "  6: 6},\n",
       " 'streets_per_node_proportions': {0: 0.0,\n",
       "  1: 0.021951749619647902,\n",
       "  2: 0.006085633557922191,\n",
       "  3: 0.38404694631601827,\n",
       "  4: 0.5727015866116062,\n",
       "  5: 0.013910019560965008,\n",
       "  6: 0.0013040643338404696},\n",
       " 'intersection_count': 4500,\n",
       " 'street_length_total': 988419.4999999977,\n",
       " 'street_segment_count': 8159,\n",
       " 'street_length_avg': 121.14468684887825,\n",
       " 'circuity_avg': 1.021382666104237,\n",
       " 'self_loop_proportion': 0.0008579482779752421}"
      ]
     },
     "execution_count": 9,
     "metadata": {},
     "output_type": "execute_result"
    }
   ],
   "source": [
    "ox.stats.basic_stats(G)"
   ]
  },
  {
   "cell_type": "code",
   "execution_count": 15,
   "id": "862ce103",
   "metadata": {},
   "outputs": [
    {
     "name": "stdout",
     "output_type": "stream",
     "text": [
      "370897167 not here bitch\n"
     ]
    }
   ],
   "source": [
    "map_graph = ox.graph_from_place('Manhattan, New York City, New York, USA', network_type='drive')\n",
    "if 370897167 in map_graph.nodes():\n",
    "    print('370897167 in map graph')\n",
    "else:\n",
    "    print('370897167 not here bitch')"
   ]
  },
  {
   "cell_type": "code",
   "execution_count": 16,
   "id": "f1354a76",
   "metadata": {},
   "outputs": [
    {
     "data": {
      "text/plain": [
       "{'n': 4601,\n",
       " 'm': 9903,\n",
       " 'k_avg': 4.30471636600739,\n",
       " 'edge_length_total': 1174033.5900000012,\n",
       " 'edge_length_avg': 118.55332626476837,\n",
       " 'streets_per_node_avg': 3.5544446859378396,\n",
       " 'streets_per_node_counts': {0: 0,\n",
       "  1: 101,\n",
       "  2: 28,\n",
       "  3: 1767,\n",
       "  4: 2635,\n",
       "  5: 64,\n",
       "  6: 6},\n",
       " 'streets_per_node_proportions': {0: 0.0,\n",
       "  1: 0.021951749619647902,\n",
       "  2: 0.006085633557922191,\n",
       "  3: 0.38404694631601827,\n",
       "  4: 0.5727015866116062,\n",
       "  5: 0.013910019560965008,\n",
       "  6: 0.0013040643338404696},\n",
       " 'intersection_count': 4500,\n",
       " 'street_length_total': 988419.4999999977,\n",
       " 'street_segment_count': 8159,\n",
       " 'street_length_avg': 121.14468684887825,\n",
       " 'circuity_avg': 1.021382666104237,\n",
       " 'self_loop_proportion': 0.0008579482779752421}"
      ]
     },
     "execution_count": 16,
     "metadata": {},
     "output_type": "execute_result"
    }
   ],
   "source": [
    "ox.stats.basic_stats(map_graph)"
   ]
  },
  {
   "cell_type": "code",
   "execution_count": null,
   "id": "2fc76452",
   "metadata": {},
   "outputs": [],
   "source": [
    "# Adding df2013['src'] & df2013['dst']\n",
    "# get the nearest network nodes to two points\n",
    "df2013['src'] = ox.distance.nearest_nodes(G, df2013['pickup_longitude'], df2013['pickup_latitude']) \n",
    "df2013['dst'] = ox.distance.nearest_nodes(G, df2013['dropoff_longitude'], df2013['dropoff_latitude'])"
   ]
  },
  {
   "cell_type": "code",
   "execution_count": null,
   "id": "f723d2bf",
   "metadata": {},
   "outputs": [],
   "source": [
    "df2013.head()"
   ]
  },
  {
   "cell_type": "code",
   "execution_count": null,
   "id": "1e775a8f",
   "metadata": {
    "scrolled": true
   },
   "outputs": [],
   "source": [
    "# Drop unwanted columns\n",
    "df2013=df2013.drop(columns=['pickup_longitude','pickup_latitude','dropoff_longitude','dropoff_latitude','dropoff_datetime'])"
   ]
  },
  {
   "cell_type": "code",
   "execution_count": null,
   "id": "66308dc0",
   "metadata": {},
   "outputs": [],
   "source": [
    "# Checking if every src node and every dst node are indeed in our graph G\n",
    "validity = True\n",
    "graph_nodes = G.nodes()\n",
    "for s_id in df2013['src']:\n",
    "    if s_id not in graph_nodes:\n",
    "        validity = Flase  \n",
    "    \n",
    "for s_id in df2013['dst']:\n",
    "    if s_id not in graph_nodes:\n",
    "        validity = Flase\n",
    "if validity:\n",
    "    print('src and dst are valid')\n",
    "else:\n",
    "    print('There is a bad src or dst')"
   ]
  },
  {
   "cell_type": "code",
   "execution_count": null,
   "id": "5ba773e9",
   "metadata": {},
   "outputs": [],
   "source": [
    "graph_nodes = G.nodes()\n",
    "if "
   ]
  },
  {
   "cell_type": "code",
   "execution_count": null,
   "id": "01e477e8",
   "metadata": {},
   "outputs": [],
   "source": [
    "# Saving the df as csv\n",
    "df2013.to_csv('clean_2013.csv' , index=True )"
   ]
  },
  {
   "cell_type": "code",
   "execution_count": null,
   "id": "5bad4023",
   "metadata": {},
   "outputs": [],
   "source": [
    "if 1775176474 in G.nodes():\n",
    "    print(\"yeah\")\n",
    "else:\n",
    "    print(\"nah\")"
   ]
  },
  {
   "cell_type": "code",
   "execution_count": null,
   "id": "22be874c",
   "metadata": {},
   "outputs": [],
   "source": [
    "temp = nx.single_source_dijkstra_path(G, 42440754, weight='travel_times')\n"
   ]
  },
  {
   "cell_type": "code",
   "execution_count": null,
   "id": "ca24a903",
   "metadata": {},
   "outputs": [],
   "source": [
    "print(temp)"
   ]
  },
  {
   "cell_type": "code",
   "execution_count": null,
   "id": "8d5000d7",
   "metadata": {},
   "outputs": [],
   "source": [
    "temp2 = nx.single_source_dijkstra_path(G, 42440754, weight='travel_times')"
   ]
  },
  {
   "cell_type": "code",
   "execution_count": null,
   "id": "95c86414",
   "metadata": {},
   "outputs": [],
   "source": [
    "print(temp2)"
   ]
  },
  {
   "cell_type": "code",
   "execution_count": 7,
   "id": "173e8d07",
   "metadata": {},
   "outputs": [
    {
     "name": "stdout",
     "output_type": "stream",
     "text": [
      "nah\n"
     ]
    }
   ],
   "source": [
    "if 370897167 in G.nodes():\n",
    "    print(\"yeah\")\n",
    "else:\n",
    "    print(\"nah\")"
   ]
  },
  {
   "cell_type": "code",
   "execution_count": 4,
   "id": "9fa07430",
   "metadata": {},
   "outputs": [
    {
     "ename": "NodeNotFound",
     "evalue": "Either source 370892861 or target 370897167 is not in G",
     "output_type": "error",
     "traceback": [
      "\u001b[1;31m---------------------------------------------------------------------------\u001b[0m",
      "\u001b[1;31mNodeNotFound\u001b[0m                              Traceback (most recent call last)",
      "\u001b[1;32m<ipython-input-4-f1e9daa78a73>\u001b[0m in \u001b[0;36m<module>\u001b[1;34m\u001b[0m\n\u001b[1;32m----> 1\u001b[1;33m \u001b[0mtemp3\u001b[0m \u001b[1;33m=\u001b[0m \u001b[0mnx\u001b[0m\u001b[1;33m.\u001b[0m\u001b[0mshortest_path\u001b[0m\u001b[1;33m(\u001b[0m\u001b[0mG\u001b[0m\u001b[1;33m,\u001b[0m \u001b[1;36m370892861\u001b[0m\u001b[1;33m,\u001b[0m \u001b[1;36m370897167\u001b[0m\u001b[1;33m)\u001b[0m\u001b[1;33m\u001b[0m\u001b[1;33m\u001b[0m\u001b[0m\n\u001b[0m",
      "\u001b[1;32mC:\\ProgramData\\Anaconda3\\lib\\site-packages\\networkx\\algorithms\\shortest_paths\\generic.py\u001b[0m in \u001b[0;36mshortest_path\u001b[1;34m(G, source, target, weight, method)\u001b[0m\n\u001b[0;32m    158\u001b[0m             \u001b[1;31m# Find shortest source-target path.\u001b[0m\u001b[1;33m\u001b[0m\u001b[1;33m\u001b[0m\u001b[1;33m\u001b[0m\u001b[0m\n\u001b[0;32m    159\u001b[0m             \u001b[1;32mif\u001b[0m \u001b[0mmethod\u001b[0m \u001b[1;33m==\u001b[0m \u001b[1;34m\"unweighted\"\u001b[0m\u001b[1;33m:\u001b[0m\u001b[1;33m\u001b[0m\u001b[1;33m\u001b[0m\u001b[0m\n\u001b[1;32m--> 160\u001b[1;33m                 \u001b[0mpaths\u001b[0m \u001b[1;33m=\u001b[0m \u001b[0mnx\u001b[0m\u001b[1;33m.\u001b[0m\u001b[0mbidirectional_shortest_path\u001b[0m\u001b[1;33m(\u001b[0m\u001b[0mG\u001b[0m\u001b[1;33m,\u001b[0m \u001b[0msource\u001b[0m\u001b[1;33m,\u001b[0m \u001b[0mtarget\u001b[0m\u001b[1;33m)\u001b[0m\u001b[1;33m\u001b[0m\u001b[1;33m\u001b[0m\u001b[0m\n\u001b[0m\u001b[0;32m    161\u001b[0m             \u001b[1;32melif\u001b[0m \u001b[0mmethod\u001b[0m \u001b[1;33m==\u001b[0m \u001b[1;34m\"dijkstra\"\u001b[0m\u001b[1;33m:\u001b[0m\u001b[1;33m\u001b[0m\u001b[1;33m\u001b[0m\u001b[0m\n\u001b[0;32m    162\u001b[0m                 \u001b[0mpaths\u001b[0m \u001b[1;33m=\u001b[0m \u001b[0mnx\u001b[0m\u001b[1;33m.\u001b[0m\u001b[0mdijkstra_path\u001b[0m\u001b[1;33m(\u001b[0m\u001b[0mG\u001b[0m\u001b[1;33m,\u001b[0m \u001b[0msource\u001b[0m\u001b[1;33m,\u001b[0m \u001b[0mtarget\u001b[0m\u001b[1;33m,\u001b[0m \u001b[0mweight\u001b[0m\u001b[1;33m)\u001b[0m\u001b[1;33m\u001b[0m\u001b[1;33m\u001b[0m\u001b[0m\n",
      "\u001b[1;32mC:\\ProgramData\\Anaconda3\\lib\\site-packages\\networkx\\algorithms\\shortest_paths\\unweighted.py\u001b[0m in \u001b[0;36mbidirectional_shortest_path\u001b[1;34m(G, source, target)\u001b[0m\n\u001b[0;32m    219\u001b[0m     \u001b[1;32mif\u001b[0m \u001b[0msource\u001b[0m \u001b[1;32mnot\u001b[0m \u001b[1;32min\u001b[0m \u001b[0mG\u001b[0m \u001b[1;32mor\u001b[0m \u001b[0mtarget\u001b[0m \u001b[1;32mnot\u001b[0m \u001b[1;32min\u001b[0m \u001b[0mG\u001b[0m\u001b[1;33m:\u001b[0m\u001b[1;33m\u001b[0m\u001b[1;33m\u001b[0m\u001b[0m\n\u001b[0;32m    220\u001b[0m         \u001b[0mmsg\u001b[0m \u001b[1;33m=\u001b[0m \u001b[1;34mf\"Either source {source} or target {target} is not in G\"\u001b[0m\u001b[1;33m\u001b[0m\u001b[1;33m\u001b[0m\u001b[0m\n\u001b[1;32m--> 221\u001b[1;33m         \u001b[1;32mraise\u001b[0m \u001b[0mnx\u001b[0m\u001b[1;33m.\u001b[0m\u001b[0mNodeNotFound\u001b[0m\u001b[1;33m(\u001b[0m\u001b[0mmsg\u001b[0m\u001b[1;33m)\u001b[0m\u001b[1;33m\u001b[0m\u001b[1;33m\u001b[0m\u001b[0m\n\u001b[0m\u001b[0;32m    222\u001b[0m \u001b[1;33m\u001b[0m\u001b[0m\n\u001b[0;32m    223\u001b[0m     \u001b[1;31m# call helper to do the real work\u001b[0m\u001b[1;33m\u001b[0m\u001b[1;33m\u001b[0m\u001b[1;33m\u001b[0m\u001b[0m\n",
      "\u001b[1;31mNodeNotFound\u001b[0m: Either source 370892861 or target 370897167 is not in G"
     ]
    }
   ],
   "source": [
    "temp3 = nx.shortest_path(G, 370892861, 370897167)"
   ]
  },
  {
   "cell_type": "code",
   "execution_count": null,
   "id": "cf04c3b9",
   "metadata": {},
   "outputs": [],
   "source": [
    "print(temp3)"
   ]
  },
  {
   "cell_type": "code",
   "execution_count": null,
   "id": "893e99dc",
   "metadata": {},
   "outputs": [],
   "source": [
    "temp4 = nx.shortest_path(G, 42442469, 7684225787)"
   ]
  },
  {
   "cell_type": "code",
   "execution_count": null,
   "id": "d6d3ba79",
   "metadata": {},
   "outputs": [],
   "source": [
    "# Shortest paths map generator"
   ]
  },
  {
   "cell_type": "code",
   "execution_count": null,
   "id": "f3b5377a",
   "metadata": {},
   "outputs": [],
   "source": [
    "\n",
    "#Testing if shortest paths match\n",
    "#route = nx.shortest_path(G, 1773121034, 42445413, 'travel_time')\n",
    "#print(route)\n",
    "#route_map = ox.plot_route_folium(G, route)"
   ]
  },
  {
   "cell_type": "code",
   "execution_count": null,
   "id": "218135d5",
   "metadata": {},
   "outputs": [],
   "source": [
    "#travel_times = dict(nx.all_pairs_bellman_ford_path_length(G,weight='travel_times'))"
   ]
  },
  {
   "cell_type": "code",
   "execution_count": null,
   "id": "96653ab6",
   "metadata": {},
   "outputs": [],
   "source": [
    "#path = dict(nx.all_pairs_dijkstra_path(G),weight='travel_times')\n"
   ]
  },
  {
   "cell_type": "code",
   "execution_count": null,
   "id": "970feaf5",
   "metadata": {},
   "outputs": [],
   "source": [
    "#print(path[1773121034][42445413])\n",
    "#print(type(path))"
   ]
  },
  {
   "cell_type": "code",
   "execution_count": null,
   "id": "7e194f94",
   "metadata": {},
   "outputs": [],
   "source": [
    "#Saving the path map\n",
    "#with open('all_paths_nyc.pickle ', 'wb') as handle:\n",
    "  #  pickle.dump(path, handle, protocol=pickle.HIGHEST_PROTOCOL)\n",
    "\n"
   ]
  },
  {
   "cell_type": "code",
   "execution_count": null,
   "id": "4fa8f828",
   "metadata": {},
   "outputs": [],
   "source": [
    "#Saving the travel_times map\n",
    "#with open('all_travel_times.pickle ', 'wb') as handle:\n",
    "   # pickle.dump(travel_times, handle, protocol=pickle.HIGHEST_PROTOCOL)\n"
   ]
  },
  {
   "cell_type": "code",
   "execution_count": null,
   "id": "03f401ba",
   "metadata": {},
   "outputs": [],
   "source": [
    "#with open('all_paths_nyc.pickle ', 'rb') as handle:\n",
    "   # b = pickle.load(handle)\n"
   ]
  },
  {
   "cell_type": "code",
   "execution_count": null,
   "id": "70ec0dd0",
   "metadata": {},
   "outputs": [],
   "source": []
  }
 ],
 "metadata": {
  "kernelspec": {
   "display_name": "Python 3 (ipykernel)",
   "language": "python",
   "name": "python3"
  },
  "language_info": {
   "codemirror_mode": {
    "name": "ipython",
    "version": 3
   },
   "file_extension": ".py",
   "mimetype": "text/x-python",
   "name": "python",
   "nbconvert_exporter": "python",
   "pygments_lexer": "ipython3",
   "version": "3.8.12"
  }
 },
 "nbformat": 4,
 "nbformat_minor": 5
}
